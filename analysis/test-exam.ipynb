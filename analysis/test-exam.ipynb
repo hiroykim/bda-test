{
 "cells": [
  {
   "cell_type": "code",
   "execution_count": 1,
   "id": "d412fd00",
   "metadata": {},
   "outputs": [],
   "source": [
    "import sys\n",
    "import traceback\n",
    "import pandas as pd\n",
    "import numpy as np\n",
    "import multiprocessing\n",
    "import platform\n",
    "\n",
    "import sklearn\n",
    "from sklearn.preprocessing import StandardScaler, MinMaxScaler, LabelEncoder, OneHotEncoder\n",
    "from sklearn.model_selection import train_test_split, KFold, cross_val_score, GridSearchCV\n",
    "from sklearn.metrics import precision_score, recall_score, f1_score, accuracy_score, roc_auc_score\n",
    "\n",
    "from sklearn.ensemble import RandomForestClassifier, BaggingClassifier, VotingClassifier, AdaBoostClassifier, GradientBoostingClassifier\n",
    "from sklearn.linear_model import LogisticRegression\n",
    "from sklearn.svm import SVC\n",
    "from sklearn.neighbors import KNeighborsClassifier\n",
    "from sklearn.naive_bayes import GaussianNB\n",
    "from sklearn.tree import DecisionTreeClassifier\n",
    "from xgboost import XGBClassifier"
   ]
  },
  {
   "cell_type": "code",
   "execution_count": 2,
   "id": "688d898b",
   "metadata": {},
   "outputs": [],
   "source": [
    "df_test1= pd.DataFrame( { 'c1' : [1,2,3,4,5], 'c2':['a','b','c','d','e'] } )"
   ]
  },
  {
   "cell_type": "code",
   "execution_count": 3,
   "id": "cfed987d",
   "metadata": {},
   "outputs": [
    {
     "name": "stdout",
     "output_type": "stream",
     "text": [
      "   c1 c2\n",
      "0   1  a\n",
      "1   2  b\n",
      "2   3  c\n",
      "3   4  d\n",
      "4   5  e\n"
     ]
    }
   ],
   "source": [
    "print(df_test1)"
   ]
  },
  {
   "cell_type": "code",
   "execution_count": 4,
   "id": "f0436016",
   "metadata": {},
   "outputs": [
    {
     "name": "stdout",
     "output_type": "stream",
     "text": [
      "   c3\n",
      "0   1\n",
      "1   2\n",
      "2   3\n",
      "3   4\n",
      "4   5\n"
     ]
    }
   ],
   "source": [
    "df_test2= pd.DataFrame( { 'c3' : [1,2,3,4,5] } )\n",
    "print(df_test2)"
   ]
  },
  {
   "cell_type": "code",
   "execution_count": 5,
   "id": "c1a58e4d",
   "metadata": {},
   "outputs": [
    {
     "name": "stdout",
     "output_type": "stream",
     "text": [
      "   index  c3\n",
      "0      0   1\n",
      "1      1   2\n",
      "2      3   4\n",
      "3      4   5\n"
     ]
    }
   ],
   "source": [
    "df_test2= df_test2.drop(2, axis=0)\n",
    "df_test2= df_test2.reset_index()\n",
    "print(df_test2)"
   ]
  },
  {
   "cell_type": "code",
   "execution_count": 6,
   "id": "67530447",
   "metadata": {},
   "outputs": [
    {
     "name": "stdout",
     "output_type": "stream",
     "text": [
      "   c1 c2   c3\n",
      "0   1  a  1.0\n",
      "1   2  b  2.0\n",
      "2   3  c  4.0\n",
      "3   4  d  5.0\n",
      "4   5  e  NaN\n"
     ]
    }
   ],
   "source": [
    "df_test1['c3']= df_test2['c3']\n",
    "print(df_test1)"
   ]
  },
  {
   "cell_type": "code",
   "execution_count": 7,
   "id": "da17c5bf",
   "metadata": {},
   "outputs": [
    {
     "name": "stdout",
     "output_type": "stream",
     "text": [
      "    c1 c2   c3\n",
      "c2            \n",
      "a    1  a  1.0\n",
      "b    2  b  2.0\n",
      "c    3  c  4.0\n",
      "d    4  d  5.0\n",
      "e    5  e  NaN\n"
     ]
    }
   ],
   "source": [
    "df_test1= df_test1.set_index('c2',drop=False)\n",
    "print(df_test1)"
   ]
  },
  {
   "cell_type": "code",
   "execution_count": 8,
   "id": "fe7de394",
   "metadata": {},
   "outputs": [
    {
     "name": "stdout",
     "output_type": "stream",
     "text": [
      "     c1 c2   c3\n",
      "c3             \n",
      "1.0   1  a  1.0\n",
      "2.0   2  b  2.0\n",
      "4.0   3  c  4.0\n",
      "5.0   4  d  5.0\n",
      "NaN   5  e  NaN\n"
     ]
    }
   ],
   "source": [
    "df_test1= df_test1.set_index('c3',drop=False)\n",
    "print(df_test1)"
   ]
  },
  {
   "cell_type": "code",
   "execution_count": 10,
   "id": "51729abc",
   "metadata": {},
   "outputs": [
    {
     "name": "stdout",
     "output_type": "stream",
     "text": [
      "   c1 c2   c3\n",
      "0   1  a  1.0\n",
      "1   2  b  2.0\n",
      "2   3  c  4.0\n",
      "3   4  d  5.0\n",
      "4   5  e  NaN\n"
     ]
    }
   ],
   "source": [
    "df_test1= df_test1.reset_index(drop=True)\n",
    "print(df_test1)"
   ]
  },
  {
   "cell_type": "code",
   "execution_count": null,
   "id": "ca675862",
   "metadata": {},
   "outputs": [],
   "source": []
  }
 ],
 "metadata": {
  "kernelspec": {
   "display_name": "Python 3",
   "language": "python",
   "name": "python3"
  },
  "language_info": {
   "codemirror_mode": {
    "name": "ipython",
    "version": 3
   },
   "file_extension": ".py",
   "mimetype": "text/x-python",
   "name": "python",
   "nbconvert_exporter": "python",
   "pygments_lexer": "ipython3",
   "version": "3.6.8"
  }
 },
 "nbformat": 4,
 "nbformat_minor": 5
}
