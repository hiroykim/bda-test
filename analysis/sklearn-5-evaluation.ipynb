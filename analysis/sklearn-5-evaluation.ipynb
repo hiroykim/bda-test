{
 "cells": [
  {
   "cell_type": "markdown",
   "id": "10103656",
   "metadata": {},
   "source": [
    "# make datasets(make_classification)"
   ]
  },
  {
   "cell_type": "code",
   "execution_count": 5,
   "id": "b42bda57",
   "metadata": {},
   "outputs": [
    {
     "name": "stdout",
     "output_type": "stream",
     "text": [
      "[[ 0.40489669  2.12347488]\n",
      " [-1.57081565  1.07968395]\n",
      " [-1.00164882  0.69878288]\n",
      " ...\n",
      " [-1.7387885   1.43173965]\n",
      " [ 0.90352872  1.75647585]\n",
      " [-0.65731797  2.37811818]]\n",
      "(700, 2)\n",
      "<class 'tuple'>\n",
      "[0 1 1 0 1 0 0 0 0 0 1 1 1 1 0 1 1 1 1 0 0 1 1 0 0 1 1 1 1 1 1 0 0 0 0 1 1\n",
      " 1 1 1 1 0 1 1 0 1 1 1 1 0 0 0 0 1 0 1 1 1 0 1 1 1 0 1 1 0 0 0 1 0 1 1 1 0\n",
      " 0 0 1 0 1 1 1 1 0 1 1 1 1 1 1 1 1 0 0 1 1 1 0 0 0 1 0 1 0 1 0 0 0 1 0 1 1\n",
      " 0 0 1 0 1 0 0 0 0 1 0 1 1 0 1 0 0 1 0 0 1 1 1 1 0 1 1 1 1 1 0 1 1 1 0 0 0\n",
      " 1 1 1 0 0 1 1 1 0 1 0 0 0 1 0 1 1 1 0 0 1 1 1 0 0 0 1 0 1 0 0 0 1 1 1 0 0\n",
      " 0 1 1 0 0 0 0 1 1 0 1 0 1 0 1 0 0 1 1 0 0 0 1 0 1 1 0 0 0 0 0 1 0 0 1 1 1\n",
      " 1 0 1 1 0 1 1 0 0 0 1 1 0 1 0 0 0 1 1 0 1 0 0 1 1 0 1 0 1 1 1 0 1 0 1 1 0\n",
      " 1 1 0 0 1 0 1 1 0 0 0 0 1 1 0 0 1 0 0 0 0 1 0 0 0 0 1 1 0 0 1 0 0 1 0 0 1\n",
      " 1 0 0 1 0 0 0 1 0 1 0 0 1 1 1 1 0 0 1 1 0 1 1 0 1 1 1 0 1 1 1 1 1 0 0 0 1\n",
      " 0 1 1 0 0 1 0 0 1 0 1 1 1 0 0 1 0 0 0 0 0 0 1 0 0 0 1 0 1 1 0 1 1 0 1 0 0\n",
      " 0 0 0 0 1 0 0 0 0 0 0 1 0 1 0 0 0 0 1 1 0 1 1 0 0 1 1 0 0 0 1 1 1 0 0 0 1\n",
      " 1 1 1 1 0 0 1 0 1 1 0 1 1 1 1 0 0 1 1 1 0 1 0 1 0 0 0 1 0 0 1 1 1 1 0 1 1\n",
      " 0 1 0 0 0 1 0 0 0 1 0 1 1 1 0 1 1 0 0 1 1 1 0 0 0 1 1 1 1 1 1 1 1 1 1 1 0\n",
      " 1 1 1 1 0 1 1 1 1 1 1 1 0 1 1 1 0 0 0 0 1 1 0 1 0 0 0 0 0 1 1 0 1 1 0 1 0\n",
      " 0 1 1 1 1 1 0 1 0 0 1 0 1 0 0 0 0 0 0 0 0 1 1 1 1 1 0 0 0 0 0 0 1 0 1 0 0\n",
      " 1 1 0 1 1 1 1 1 1 1 1 1 1 1 0 0 0 0 0 1 1 0 0 1 0 0 1 1 1 0 1 0 0 0 0 1 1\n",
      " 0 0 0 0 1 1 0 0 1 0 0 1 0 0 0 0 1 0 0 0 1 1 1 0 0 1 1 1 1 0 0 0 1 1 1 0 0\n",
      " 1 0 0 1 0 1 0 1 1 0 1 0 1 1 1 1 1 0 1 0 1 1 0 0 0 0 0 0 0 1 1 0 0 1 0 1 0\n",
      " 0 0 1 1 0 0 0 0 1 0 1 0 1 1 1 0 0 0 1 1 1 1 0 1 1 1 0 1 0 1 1 1 0 0]\n",
      "(700,)\n",
      "<class 'tuple'>\n",
      "훈련 평가 점수 : 0.9771428571428571\n",
      "검증 평가 점수 : 0.9766666666666667\n",
      "정확도  : 0.9766666666666667\n"
     ]
    }
   ],
   "source": [
    "from sklearn.datasets import make_classification\n",
    "from sklearn.linear_model import LogisticRegression\n",
    "from sklearn.model_selection import train_test_split\n",
    "from sklearn.metrics import accuracy_score\n",
    "\n",
    "X, y = make_classification(n_samples=1000, n_features=2, n_informative=2, \n",
    "                           n_redundant=0, n_clusters_per_class=1)\n",
    "X_train, X_test, y_train, y_test = train_test_split(X, y, test_size=0.3)\n",
    "\n",
    "model = LogisticRegression()\n",
    "model.fit(X_train, y_train)\n",
    "\n",
    "\n",
    "print(X_train)\n",
    "print(X_train.shape)\n",
    "print(type(X_train.shape))\n",
    "\n",
    "print(y_train)\n",
    "print(y_train.shape)\n",
    "print(type(y_train.shape))\n",
    "\n",
    "\n",
    "print(\"훈련 평가 점수 : {}\".format(model.score(X_train, y_train)))\n",
    "print(\"검증 평가 점수 : {}\".format(model.score(X_test, y_test)))\n",
    "predict = model.predict(X_test)\n",
    "print(\"정확도  : {}\".format(accuracy_score(y_test, predict)))"
   ]
  },
  {
   "cell_type": "markdown",
   "id": "85dc2b4f",
   "metadata": {},
   "source": [
    "# sklearn.metrics confusion_matrix, (precision_,recall,f1_,roc_auc_)score"
   ]
  },
  {
   "cell_type": "code",
   "execution_count": 37,
   "id": "7bcf1c4e",
   "metadata": {},
   "outputs": [
    {
     "name": "stdout",
     "output_type": "stream",
     "text": [
      "혼동 행렬 : [[150   0]\n",
      " [  1 149]]\n",
      "정밀도 : 1.0\n",
      "재현율 : 0.9933333333333333\n",
      "F1 : 0.9966555183946488\n",
      "ROC : 0.9966666666666666\n"
     ]
    }
   ],
   "source": [
    "from sklearn.metrics import confusion_matrix, precision_score, recall_score, f1_score, roc_auc_score\n",
    "\n",
    "confmat = confusion_matrix(y_test, predict)\n",
    "p_score = precision_score(y_test, predict)\n",
    "r_score = recall_score(y_test, predict)\n",
    "f1 = f1_score(y_test, predict)\n",
    "roc_auc = roc_auc_score(y_test, predict)\n",
    "\n",
    "print(\"혼동 행렬 : {}\".format(confmat))\n",
    "print(\"정밀도 : {}\".format(p_score))\n",
    "print(\"재현율 : {}\".format(r_score))\n",
    "print(\"F1 : {}\".format(f1))\n",
    "print(\"ROC : {}\".format(roc_auc))"
   ]
  },
  {
   "cell_type": "code",
   "execution_count": null,
   "id": "c9a56ab6",
   "metadata": {},
   "outputs": [],
   "source": []
  }
 ],
 "metadata": {
  "kernelspec": {
   "display_name": "Python 3",
   "language": "python",
   "name": "python3"
  },
  "language_info": {
   "codemirror_mode": {
    "name": "ipython",
    "version": 3
   },
   "file_extension": ".py",
   "mimetype": "text/x-python",
   "name": "python",
   "nbconvert_exporter": "python",
   "pygments_lexer": "ipython3",
   "version": "3.6.8"
  }
 },
 "nbformat": 4,
 "nbformat_minor": 5
}
