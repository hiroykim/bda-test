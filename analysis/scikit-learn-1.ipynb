{
 "cells": [
  {
   "cell_type": "code",
   "execution_count": 1,
   "id": "e1ee050b",
   "metadata": {},
   "outputs": [],
   "source": [
    "import numpy as np\n",
    "import matplotlib.pyplot as plt\n",
    "plt.style.use(['seaborn-whitegrid'])"
   ]
  },
  {
   "cell_type": "code",
   "execution_count": 2,
   "id": "139c6805",
   "metadata": {},
   "outputs": [
    {
     "data": {
      "text/plain": [
       "<matplotlib.collections.PathCollection at 0x193559b9f98>"
      ]
     },
     "execution_count": 2,
     "metadata": {},
     "output_type": "execute_result"
    },
    {
     "data": {
      "image/png": "[encoded data removed]",
      "text/plain": [
       "<Figure size 432x288 with 1 Axes>"
      ]
     },
     "metadata": {},
     "output_type": "display_data"
    }
   ],
   "source": [
    "x = 10 * np.random.rand(50)\n",
    "y = 2*x + np.random.rand(50)\n",
    "plt.scatter(x,y)"
   ]
  },
  {
   "cell_type": "code",
   "execution_count": 3,
   "id": "9981c459",
   "metadata": {},
   "outputs": [],
   "source": [
    "from sklearn.linear_model import LinearRegression"
   ]
  },
  {
   "cell_type": "code",
   "execution_count": 4,
   "id": "8a1a04ff",
   "metadata": {},
   "outputs": [
    {
     "data": {
      "text/plain": [
       "LinearRegression()"
      ]
     },
     "execution_count": 4,
     "metadata": {},
     "output_type": "execute_result"
    }
   ],
   "source": [
    "model = LinearRegression()\n",
    "model"
   ]
  },
  {
   "cell_type": "code",
   "execution_count": 5,
   "id": "8473bca2",
   "metadata": {},
   "outputs": [
    {
     "data": {
      "text/plain": [
       "array([[9.35105996],\n",
       "       [0.8297541 ],\n",
       "       [9.50326537],\n",
       "       [7.67862038],\n",
       "       [1.45061346],\n",
       "       [0.41664052],\n",
       "       [1.92539502],\n",
       "       [9.17397911],\n",
       "       [0.5397501 ],\n",
       "       [3.91966931],\n",
       "       [1.39400487],\n",
       "       [3.48389712],\n",
       "       [8.53306517],\n",
       "       [3.71336273],\n",
       "       [7.33129684],\n",
       "       [7.92418945],\n",
       "       [7.00674875],\n",
       "       [3.03196375],\n",
       "       [1.79438185],\n",
       "       [0.55080896],\n",
       "       [2.02482556],\n",
       "       [8.7455749 ],\n",
       "       [4.30925107],\n",
       "       [6.4524486 ],\n",
       "       [1.06159211],\n",
       "       [2.6202428 ],\n",
       "       [0.17184265],\n",
       "       [7.08906979],\n",
       "       [9.14589743],\n",
       "       [5.32119497],\n",
       "       [9.66339154],\n",
       "       [1.23263367],\n",
       "       [9.23335045],\n",
       "       [8.55450721],\n",
       "       [2.41661929],\n",
       "       [8.58378522],\n",
       "       [2.52486298],\n",
       "       [1.64860797],\n",
       "       [7.37630986],\n",
       "       [2.5156999 ],\n",
       "       [9.48359077],\n",
       "       [4.12146178],\n",
       "       [4.52556874],\n",
       "       [1.77716497],\n",
       "       [4.73021499],\n",
       "       [8.73890469],\n",
       "       [1.78064936],\n",
       "       [0.57699034],\n",
       "       [9.96357256],\n",
       "       [9.6091513 ]])"
      ]
     },
     "execution_count": 5,
     "metadata": {},
     "output_type": "execute_result"
    }
   ],
   "source": [
    "X = x[:, np.newaxis]\n",
    "X"
   ]
  },
  {
   "cell_type": "code",
   "execution_count": 6,
   "id": "f3370745",
   "metadata": {},
   "outputs": [
    {
     "data": {
      "text/plain": [
       "LinearRegression()"
      ]
     },
     "execution_count": 6,
     "metadata": {},
     "output_type": "execute_result"
    }
   ],
   "source": [
    "model.fit(X,y)"
   ]
  },
  {
   "cell_type": "code",
   "execution_count": 8,
   "id": "65f159ed",
   "metadata": {},
   "outputs": [
    {
     "data": {
      "text/plain": [
       "array([-1.55391785, -1.06211782, -0.57031779, -0.07851776,  0.41328227,\n",
       "        0.9050823 ,  1.39688233,  1.88868236,  2.38048239,  2.87228242,\n",
       "        3.36408245,  3.85588249,  4.34768252,  4.83948255,  5.33128258,\n",
       "        5.82308261,  6.31488264,  6.80668267,  7.2984827 ,  7.79028273,\n",
       "        8.28208276,  8.77388279,  9.26568282,  9.75748285, 10.24928289,\n",
       "       10.74108292, 11.23288295, 11.72468298, 12.21648301, 12.70828304,\n",
       "       13.20008307, 13.6918831 , 14.18368313, 14.67548316, 15.16728319,\n",
       "       15.65908322, 16.15088326, 16.64268329, 17.13448332, 17.62628335,\n",
       "       18.11808338, 18.60988341, 19.10168344, 19.59348347, 20.0852835 ,\n",
       "       20.57708353, 21.06888356, 21.56068359, 22.05248363, 22.54428366])"
      ]
     },
     "execution_count": 8,
     "metadata": {},
     "output_type": "execute_result"
    }
   ],
   "source": [
    "Xfit = np.linspace(-1, 11)\n",
    "Xfit = Xfit[:, np.newaxis]\n",
    "yfit = model.predict(Xfit)\n",
    "yfit"
   ]
  },
  {
   "cell_type": "code",
   "execution_count": 15,
   "id": "7fc64a31",
   "metadata": {},
   "outputs": [
    {
     "data": {
      "image/png": "[encoded data removed]",
      "text/plain": [
       "<Figure size 432x288 with 1 Axes>"
      ]
     },
     "metadata": {},
     "output_type": "display_data"
    }
   ],
   "source": [
    "plt.scatter(X,y)\n",
    "plt.plot(Xfit,yfit,'--r');"
   ]
  },
  {
   "cell_type": "code",
   "execution_count": null,
   "id": "6e33ce3c",
   "metadata": {},
   "outputs": [],
   "source": []
  }
 ],
 "metadata": {
  "kernelspec": {
   "display_name": "Python 3",
   "language": "python",
   "name": "python3"
  },
  "language_info": {
   "codemirror_mode": {
    "name": "ipython",
    "version": 3
   },
   "file_extension": ".py",
   "mimetype": "text/x-python",
   "name": "python",
   "nbconvert_exporter": "python",
   "pygments_lexer": "ipython3",
   "version": "3.6.8"
  }
 },
 "nbformat": 4,
 "nbformat_minor": 5
}
