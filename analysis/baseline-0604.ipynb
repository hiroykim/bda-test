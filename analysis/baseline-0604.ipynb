{
 "cells": [
  {
   "cell_type": "code",
   "execution_count": 1,
   "id": "2eeeb9ed",
   "metadata": {},
   "outputs": [],
   "source": [
    "import sys\n",
    "import traceback\n",
    "import pandas as pd\n",
    "import numpy as np\n",
    "import multiprocessing\n",
    "import platform\n",
    "\n",
    "import sklearn\n",
    "from sklearn.preprocessing import StandardScaler, MinMaxScaler, LabelEncoder, OneHotEncoder\n",
    "from sklearn.model_selection import train_test_split, KFold, cross_val_score, GridSearchCV\n",
    "from sklearn.metrics import precision_score, recall_score, f1_score, accuracy_score, roc_auc_score\n",
    "\n",
    "from sklearn.ensemble import RandomForestClassifier, BaggingClassifier, VotingClassifier, AdaBoostClassifier, GradientBoostingClassifier\n",
    "from sklearn.linear_model import LogisticRegression\n",
    "from sklearn.svm import SVC\n",
    "from sklearn.neighbors import KNeighborsClassifier\n",
    "from sklearn.naive_bayes import GaussianNB\n",
    "from sklearn.tree import DecisionTreeClassifier\n",
    "from xgboost import XGBClassifier"
   ]
  },
  {
   "cell_type": "code",
   "execution_count": 2,
   "id": "dbdb5fa3",
   "metadata": {},
   "outputs": [],
   "source": [
    "pd.set_option(\"display.max_rows\",99)\n",
    "pd.set_option(\"display.max_columns\",99)"
   ]
  },
  {
   "cell_type": "code",
   "execution_count": 3,
   "id": "6d0fa102",
   "metadata": {},
   "outputs": [],
   "source": [
    "##### Load DataSet\n",
    "X_train_all = pd.read_csv(\"data/X_train.csv\", encoding='cp949')\n",
    "y_train_all = pd.read_csv(\"data/y_train.csv\", encoding='cp949')\n",
    "X_test_all = pd.read_csv(\"data/X_test.csv\", encoding='cp949')"
   ]
  },
  {
   "cell_type": "code",
   "execution_count": 4,
   "id": "1e79f2a0",
   "metadata": {
    "scrolled": true
   },
   "outputs": [
    {
     "name": "stdout",
     "output_type": "stream",
     "text": [
      "<class 'pandas.core.frame.DataFrame'>\n",
      "RangeIndex: 3500 entries, 0 to 3499\n",
      "Data columns (total 10 columns):\n",
      " #   Column   Non-Null Count  Dtype  \n",
      "---  ------   --------------  -----  \n",
      " 0   cust_id  3500 non-null   int64  \n",
      " 1   총구매액     3500 non-null   int64  \n",
      " 2   최대구매액    3500 non-null   int64  \n",
      " 3   환불금액     1205 non-null   float64\n",
      " 4   주구매상품    3500 non-null   object \n",
      " 5   주구매지점    3500 non-null   object \n",
      " 6   내점일수     3500 non-null   int64  \n",
      " 7   내점당구매건수  3500 non-null   float64\n",
      " 8   주말방문비율   3500 non-null   float64\n",
      " 9   구매주기     3500 non-null   int64  \n",
      "dtypes: float64(3), int64(5), object(2)\n",
      "memory usage: 273.6+ KB\n",
      "None\n",
      "<class 'pandas.core.frame.DataFrame'>\n",
      "RangeIndex: 2482 entries, 0 to 2481\n",
      "Data columns (total 10 columns):\n",
      " #   Column   Non-Null Count  Dtype  \n",
      "---  ------   --------------  -----  \n",
      " 0   cust_id  2482 non-null   int64  \n",
      " 1   총구매액     2482 non-null   int64  \n",
      " 2   최대구매액    2482 non-null   int64  \n",
      " 3   환불금액     871 non-null    float64\n",
      " 4   주구매상품    2482 non-null   object \n",
      " 5   주구매지점    2482 non-null   object \n",
      " 6   내점일수     2482 non-null   int64  \n",
      " 7   내점당구매건수  2482 non-null   float64\n",
      " 8   주말방문비율   2482 non-null   float64\n",
      " 9   구매주기     2482 non-null   int64  \n",
      "dtypes: float64(3), int64(5), object(2)\n",
      "memory usage: 194.0+ KB\n",
      "None\n",
      "<class 'pandas.core.frame.DataFrame'>\n",
      "RangeIndex: 3500 entries, 0 to 3499\n",
      "Data columns (total 2 columns):\n",
      " #   Column   Non-Null Count  Dtype\n",
      "---  ------   --------------  -----\n",
      " 0   cust_id  3500 non-null   int64\n",
      " 1   gender   3500 non-null   int64\n",
      "dtypes: int64(2)\n",
      "memory usage: 54.8 KB\n",
      "None\n"
     ]
    }
   ],
   "source": [
    "print(X_train_all.info())\n",
    "print(X_test_all.info())\n",
    "print(y_train_all.info())"
   ]
  },
  {
   "cell_type": "code",
   "execution_count": 5,
   "id": "68e7b673",
   "metadata": {},
   "outputs": [
    {
     "name": "stdout",
     "output_type": "stream",
     "text": [
      "0    2184\n",
      "1    1316\n",
      "Name: gender, dtype: int64\n"
     ]
    }
   ],
   "source": [
    "print(y_train_all['gender'].value_counts())"
   ]
  },
  {
   "cell_type": "code",
   "execution_count": 6,
   "id": "cfe8254d",
   "metadata": {},
   "outputs": [],
   "source": [
    "##### Edit DataSet\n",
    "X_train_all_size= len(X_train_all)\n",
    "X_all = pd.concat([X_train_all, X_test_all])\n",
    "X_all = X_all.reset_index()\n",
    "X_all['gender'] = y_train_all['gender']"
   ]
  },
  {
   "cell_type": "code",
   "execution_count": 7,
   "id": "c47c497d",
   "metadata": {
    "scrolled": false
   },
   "outputs": [
    {
     "name": "stdout",
     "output_type": "stream",
     "text": [
      "<class 'pandas.core.frame.DataFrame'>\n",
      "RangeIndex: 5982 entries, 0 to 5981\n",
      "Data columns (total 12 columns):\n",
      " #   Column   Non-Null Count  Dtype  \n",
      "---  ------   --------------  -----  \n",
      " 0   index    5982 non-null   int64  \n",
      " 1   cust_id  5982 non-null   int64  \n",
      " 2   총구매액     5982 non-null   int64  \n",
      " 3   최대구매액    5982 non-null   int64  \n",
      " 4   환불금액     2076 non-null   float64\n",
      " 5   주구매상품    5982 non-null   object \n",
      " 6   주구매지점    5982 non-null   object \n",
      " 7   내점일수     5982 non-null   int64  \n",
      " 8   내점당구매건수  5982 non-null   float64\n",
      " 9   주말방문비율   5982 non-null   float64\n",
      " 10  구매주기     5982 non-null   int64  \n",
      " 11  gender   3500 non-null   float64\n",
      "dtypes: float64(4), int64(6), object(2)\n",
      "memory usage: 560.9+ KB\n",
      "None\n",
      "   index  cust_id      총구매액     최대구매액       환불금액   주구매상품 주구매지점  내점일수  \\\n",
      "0      0        0  68282840  11264000  6860000.0      기타   강남점    19   \n",
      "1      1        1   2136000   2136000   300000.0     스포츠   잠실점     2   \n",
      "2      2        2   3197000   1639000        NaN  남성 캐주얼   관악점     2   \n",
      "3      3        3  16077620   4935000        NaN      기타   광주점    18   \n",
      "4      4        4  29050000  24000000        NaN      보석  본  점     2   \n",
      "\n",
      "    내점당구매건수    주말방문비율  구매주기  gender  \n",
      "0  3.894737  0.527027    17     0.0  \n",
      "1  1.500000  0.000000     1     0.0  \n",
      "2  2.000000  0.000000     1     1.0  \n",
      "3  2.444444  0.318182    16     1.0  \n",
      "4  1.500000  0.000000    85     0.0  \n",
      "      index  cust_id       총구매액     최대구매액  환불금액   주구매상품 주구매지점  내점일수   내점당구매건수  \\\n",
      "5977   2477     5977   82581500  23976000   NaN      골프  부산본점     8  1.750000   \n",
      "5978   2478     5978     480000    480000   NaN    섬유잡화   광주점     1  1.000000   \n",
      "5979   2479     5979  260003790  25750000   NaN  남성 캐주얼  본  점    19  3.736842   \n",
      "5980   2480     5980   88991520  18120000   NaN      육류  본  점     5  3.600000   \n",
      "5981   2481     5981     623700    209000   NaN    가공식품  영등포점     2  5.000000   \n",
      "\n",
      "        주말방문비율  구매주기  gender  \n",
      "5977  0.642857    40     NaN  \n",
      "5978  0.000000     0     NaN  \n",
      "5979  0.915493    18     NaN  \n",
      "5980  0.444444    60     NaN  \n",
      "5981  0.000000    31     NaN  \n"
     ]
    }
   ],
   "source": [
    "print(X_all.info())\n",
    "print(X_all.head())\n",
    "print(X_all.tail())"
   ]
  },
  {
   "cell_type": "code",
   "execution_count": 8,
   "id": "032d2b1f",
   "metadata": {},
   "outputs": [
    {
     "name": "stdout",
     "output_type": "stream",
     "text": [
      "             index      cust_id          총구매액         최대구매액          환불금액  \\\n",
      "count  5982.000000  5982.000000  5.982000e+03  5.982000e+03  2.076000e+03   \n",
      "mean   1538.310097  2990.500000  9.569838e+07  2.053814e+07  2.469452e+07   \n",
      "std     934.514523  1726.998987  1.676480e+08  3.330805e+07  5.281222e+07   \n",
      "min       0.000000     0.000000 -5.242152e+07 -3.744000e+07  5.600000e+03   \n",
      "25%     747.250000  1495.250000  4.867800e+06  2.875000e+06  2.304000e+06   \n",
      "50%    1495.000000  2990.500000  2.898500e+07  1.019760e+07  7.627000e+06   \n",
      "75%    2242.750000  4485.750000  1.142893e+08  2.447250e+07  2.353250e+07   \n",
      "max    3499.000000  5981.000000  2.861238e+09  7.066290e+08  8.715144e+08   \n",
      "\n",
      "              내점일수      내점당구매건수       주말방문비율         구매주기       gender  \n",
      "count  5982.000000  5982.000000  5982.000000  5982.000000  3500.000000  \n",
      "mean     19.362922     2.828501     0.301672    20.679371     0.376000  \n",
      "std      26.681326     1.848389     0.286858    24.485411     0.484449  \n",
      "min       1.000000     1.000000     0.000000     0.000000     0.000000  \n",
      "25%       2.000000     1.704248     0.025688     4.000000     0.000000  \n",
      "50%       9.000000     2.375000     0.250000    13.000000     0.000000  \n",
      "75%      26.000000     3.375000     0.440554    28.000000     1.000000  \n",
      "max     285.000000    22.083333     1.000000   177.000000     1.000000  \n"
     ]
    }
   ],
   "source": [
    "print(X_all.describe())"
   ]
  },
  {
   "cell_type": "code",
   "execution_count": 9,
   "id": "9b5add00",
   "metadata": {},
   "outputs": [
    {
     "name": "stdout",
     "output_type": "stream",
     "text": [
      "0    2184\n",
      "1    1316\n",
      "Name: gender, dtype: int64\n",
      "0.0    2184\n",
      "1.0    1316\n",
      "Name: gender, dtype: int64\n",
      "gender  주구매상품 \n",
      "0.0     기타        375\n",
      "        가공식품      317\n",
      "        농산물       247\n",
      "        화장품       196\n",
      "        시티웨어      169\n",
      "        디자이너      168\n",
      "        수산품        92\n",
      "        명품         61\n",
      "        캐주얼        60\n",
      "        섬유잡화       48\n",
      "        일용잡화       43\n",
      "        모피/피혁      39\n",
      "        골프         38\n",
      "        스포츠        33\n",
      "        육류         31\n",
      "        구두         26\n",
      "        아동         26\n",
      "        차/커피       26\n",
      "        건강식품       22\n",
      "        피혁잡화       21\n",
      "        축산가공       19\n",
      "        주방용품       18\n",
      "        젓갈/반찬      14\n",
      "        남성 캐주얼     13\n",
      "        트래디셔널      12\n",
      "        셔츠         11\n",
      "        생활잡화        8\n",
      "        주방가전        8\n",
      "        란제리/내의      6\n",
      "        커리어         6\n",
      "        가구          5\n",
      "        남성정장        4\n",
      "        대형가전        4\n",
      "        액세서리        4\n",
      "        침구/수예       4\n",
      "        주류          3\n",
      "        보석          2\n",
      "        식기          2\n",
      "        남성 트랜디      1\n",
      "        소형가전        1\n",
      "        통신/컴퓨터      1\n",
      "1.0     가공식품      229\n",
      "        기타        220\n",
      "        농산물        92\n",
      "        화장품        68\n",
      "        수산품        61\n",
      "        섬유잡화       50\n",
      "        골프         44\n",
      "        시티웨어       44\n",
      "        남성 캐주얼     42\n",
      "        캐주얼        41\n",
      "        명품         39\n",
      "        스포츠        36\n",
      "        구두         28\n",
      "        육류         26\n",
      "        건강식품       25\n",
      "        디자이너       25\n",
      "        일용잡화       21\n",
      "        셔츠         19\n",
      "        피혁잡화       19\n",
      "        남성정장       18\n",
      "        모피/피혁      18\n",
      "        주방가전       18\n",
      "        차/커피       18\n",
      "        축산가공       16\n",
      "        젓갈/반찬      15\n",
      "        아동         14\n",
      "        주방용품       14\n",
      "        주류         11\n",
      "        트래디셔널      11\n",
      "        생활잡화        7\n",
      "        가구          5\n",
      "        식기          5\n",
      "        대형가전        4\n",
      "        커리어         3\n",
      "        란제리/내의      2\n",
      "        악기          2\n",
      "        통신/컴퓨터      2\n",
      "        남성 트랜디      1\n",
      "        보석          1\n",
      "        소형가전        1\n",
      "        액세서리        1\n",
      "Name: 주구매상품, dtype: int64\n",
      "gender  주구매지점\n",
      "0.0     본  점     643\n",
      "        잠실점      305\n",
      "        분당점      282\n",
      "        부산본점     163\n",
      "        영등포점     142\n",
      "        일산점      128\n",
      "        강남점      108\n",
      "        광주점       68\n",
      "        노원점       62\n",
      "        청량리점      49\n",
      "        대전점       45\n",
      "        부평점       40\n",
      "        미아점       39\n",
      "        동래점       32\n",
      "        관악점       27\n",
      "        인천점       18\n",
      "        안양점       14\n",
      "        포항점        7\n",
      "        센텀시티점      3\n",
      "        울산점        3\n",
      "        창원점        3\n",
      "        대구점        2\n",
      "        상인점        1\n",
      "1.0     본  점     434\n",
      "        잠실점      169\n",
      "        분당점      154\n",
      "        영등포점      99\n",
      "        부산본점      82\n",
      "        일산점       70\n",
      "        광주점       46\n",
      "        강남점       37\n",
      "        청량리점      37\n",
      "        미아점       30\n",
      "        노원점       28\n",
      "        대전점       25\n",
      "        관악점       19\n",
      "        동래점       17\n",
      "        부평점       17\n",
      "        인천점       16\n",
      "        안양점       15\n",
      "        대구점        5\n",
      "        전주점        5\n",
      "        포항점        4\n",
      "        센텀시티점      3\n",
      "        울산점        3\n",
      "        창원점        1\n",
      "Name: 주구매지점, dtype: int64\n"
     ]
    }
   ],
   "source": [
    "print(y_train_all['gender'].value_counts())\n",
    "print(X_all['gender'].value_counts())\n",
    "print(X_all.groupby('gender')['주구매상품'].value_counts())\n",
    "print(X_all.groupby('gender')['주구매지점'].value_counts())"
   ]
  },
  {
   "cell_type": "code",
   "execution_count": 10,
   "id": "5a59fd2a",
   "metadata": {},
   "outputs": [
    {
     "name": "stdout",
     "output_type": "stream",
     "text": [
      "gender  환불금액       \n",
      "0.0     250000.0       3\n",
      "        420000.0       3\n",
      "        1050000.0      3\n",
      "        3080000.0      3\n",
      "        59000.0        2\n",
      "                      ..\n",
      "1.0     153190000.0    1\n",
      "        174984000.0    1\n",
      "        188570000.0    1\n",
      "        210195200.0    1\n",
      "        210771400.0    1\n",
      "Name: 환불금액, Length: 1147, dtype: int64\n"
     ]
    }
   ],
   "source": [
    "print(X_all.groupby('gender')['환불금액'].value_counts())"
   ]
  },
  {
   "cell_type": "code",
   "execution_count": 11,
   "id": "cf3e75a9",
   "metadata": {},
   "outputs": [],
   "source": [
    "##### 결측치\n",
    "X_all['환불금액']= X_all['환불금액'].fillna(0)"
   ]
  },
  {
   "cell_type": "code",
   "execution_count": 12,
   "id": "50f4d03c",
   "metadata": {},
   "outputs": [
    {
     "name": "stdout",
     "output_type": "stream",
     "text": [
      "gender  환불금액       \n",
      "0.0     0.0            1269\n",
      "        250000.0          3\n",
      "        420000.0          3\n",
      "        1050000.0         3\n",
      "        3080000.0         3\n",
      "                       ... \n",
      "1.0     153190000.0       1\n",
      "        174984000.0       1\n",
      "        188570000.0       1\n",
      "        210195200.0       1\n",
      "        210771400.0       1\n",
      "Name: 환불금액, Length: 1149, dtype: int64\n"
     ]
    }
   ],
   "source": [
    "print(X_all.groupby('gender')['환불금액'].value_counts())"
   ]
  },
  {
   "cell_type": "code",
   "execution_count": 13,
   "id": "70613594",
   "metadata": {},
   "outputs": [],
   "source": [
    "##### feature Encoding\n",
    "X_all['주구매상품']=LabelEncoder().fit_transform(X_all['주구매상품'])\n",
    "X_all['주구매지점']=LabelEncoder().fit_transform(X_all['주구매지점'])"
   ]
  },
  {
   "cell_type": "code",
   "execution_count": 14,
   "id": "3a5801bd",
   "metadata": {},
   "outputs": [
    {
     "name": "stdout",
     "output_type": "stream",
     "text": [
      "   index  cust_id      총구매액     최대구매액       환불금액  주구매상품  주구매지점  내점일수  \\\n",
      "0      0        0  68282840  11264000  6860000.0      5      0    19   \n",
      "1      1        1   2136000   2136000   300000.0     21     19     2   \n",
      "2      2        2   3197000   1639000        0.0      6      1     2   \n",
      "3      3        3  16077620   4935000        0.0      5      2    18   \n",
      "4      4        4  29050000  24000000        0.0     15      8     2   \n",
      "\n",
      "    내점당구매건수    주말방문비율  구매주기  gender  \n",
      "0  3.894737  0.527027    17     0.0  \n",
      "1  1.500000  0.000000     1     0.0  \n",
      "2  2.000000  0.000000     1     1.0  \n",
      "3  2.444444  0.318182    16     1.0  \n",
      "4  1.500000  0.000000    85     0.0  \n"
     ]
    }
   ],
   "source": [
    "print(X_all.head())"
   ]
  },
  {
   "cell_type": "code",
   "execution_count": 15,
   "id": "595e58a7",
   "metadata": {},
   "outputs": [],
   "source": [
    "##### feature Scaling\n",
    "X_all = pd.DataFrame(StandardScaler().fit_transform(X_all), columns=X_all.columns)"
   ]
  },
  {
   "cell_type": "code",
   "execution_count": 16,
   "id": "ee3f0e53",
   "metadata": {},
   "outputs": [
    {
     "name": "stdout",
     "output_type": "stream",
     "text": [
      "         index   cust_id      총구매액     최대구매액      환불금액     주구매상품     주구매지점  \\\n",
      "0    -1.646244 -1.731761 -0.163544 -0.278459 -0.051427 -0.725353 -1.912205   \n",
      "1    -1.645174 -1.731182 -0.558135 -0.552530 -0.248711  0.511904  1.441974   \n",
      "2    -1.644103 -1.730603 -0.551806 -0.567452 -0.257733 -0.648024 -1.735670   \n",
      "3    -1.643033 -1.730024 -0.474968 -0.468489 -0.257733 -0.725353 -1.559134   \n",
      "4    -1.641963 -1.729445 -0.397583  0.103943 -0.257733  0.047933 -0.499919   \n",
      "...        ...       ...       ...       ...       ...       ...       ...   \n",
      "5977  1.004552  1.729445 -0.078247  0.103223 -0.257733 -0.880010 -0.323383   \n",
      "5978  1.005622  1.730024 -0.568014 -0.602251 -0.257733  0.202590 -1.559134   \n",
      "5979  1.006692  1.730603  0.980144  0.156487 -0.257733 -0.648024 -0.499919   \n",
      "5980  1.007762  1.731182 -0.040009 -0.072605 -0.257733  0.975876 -0.499919   \n",
      "5981  1.008833  1.731761 -0.567156 -0.610388 -0.257733 -1.111996  0.735831   \n",
      "\n",
      "          내점일수   내점당구매건수    주말방문비율      구매주기    gender  \n",
      "0    -0.013603  0.576894  0.785662 -0.150280 -0.776250  \n",
      "1    -0.650806 -0.718794 -1.051729 -0.803785 -0.776250  \n",
      "2    -0.650806 -0.448266 -1.051729 -0.803785  1.288245  \n",
      "3    -0.051086 -0.207796  0.057558 -0.191125  1.288245  \n",
      "4    -0.650806 -0.718794 -1.051729  2.627116 -0.776250  \n",
      "...        ...       ...       ...       ...       ...  \n",
      "5977 -0.425911 -0.583530  1.189484  0.789133       NaN  \n",
      "5978 -0.688289 -0.989323 -1.051729 -0.844629       NaN  \n",
      "5979 -0.013603  0.491464  2.139983 -0.109436       NaN  \n",
      "5980 -0.538359  0.417425  0.497751  1.606014       NaN  \n",
      "5981 -0.650806  1.174904 -1.051729  0.421536       NaN  \n",
      "\n",
      "[5982 rows x 12 columns]\n"
     ]
    }
   ],
   "source": [
    "print(X_all)"
   ]
  },
  {
   "cell_type": "code",
   "execution_count": 18,
   "id": "bf705533",
   "metadata": {},
   "outputs": [
    {
     "name": "stdout",
     "output_type": "stream",
     "text": [
      "         index      총구매액     최대구매액      환불금액     주구매상품     주구매지점      내점일수  \\\n",
      "0    -1.646244 -0.163544 -0.278459 -0.051427 -0.725353 -1.912205 -0.013603   \n",
      "1    -1.645174 -0.558135 -0.552530 -0.248711  0.511904  1.441974 -0.650806   \n",
      "2    -1.644103 -0.551806 -0.567452 -0.257733 -0.648024 -1.735670 -0.650806   \n",
      "3    -1.643033 -0.474968 -0.468489 -0.257733 -0.725353 -1.559134 -0.051086   \n",
      "4    -1.641963 -0.397583  0.103943 -0.257733  0.047933 -0.499919 -0.650806   \n",
      "...        ...       ...       ...       ...       ...       ...       ...   \n",
      "5977  1.004552 -0.078247  0.103223 -0.257733 -0.880010 -0.323383 -0.425911   \n",
      "5978  1.005622 -0.568014 -0.602251 -0.257733  0.202590 -1.559134 -0.688289   \n",
      "5979  1.006692  0.980144  0.156487 -0.257733 -0.648024 -0.499919 -0.013603   \n",
      "5980  1.007762 -0.040009 -0.072605 -0.257733  0.975876 -0.499919 -0.538359   \n",
      "5981  1.008833 -0.567156 -0.610388 -0.257733 -1.111996  0.735831 -0.650806   \n",
      "\n",
      "       내점당구매건수    주말방문비율      구매주기  \n",
      "0     0.576894  0.785662 -0.150280  \n",
      "1    -0.718794 -1.051729 -0.803785  \n",
      "2    -0.448266 -1.051729 -0.803785  \n",
      "3    -0.207796  0.057558 -0.191125  \n",
      "4    -0.718794 -1.051729  2.627116  \n",
      "...        ...       ...       ...  \n",
      "5977 -0.583530  1.189484  0.789133  \n",
      "5978 -0.989323 -1.051729 -0.844629  \n",
      "5979  0.491464  2.139983 -0.109436  \n",
      "5980  0.417425  0.497751  1.606014  \n",
      "5981  1.174904 -1.051729  0.421536  \n",
      "\n",
      "[5982 rows x 10 columns]\n"
     ]
    }
   ],
   "source": [
    "##### feature Selection\n",
    "X_all = X_all.drop(['cust_id', 'gender'], axis=1)\n",
    "print(X_all)"
   ]
  },
  {
   "cell_type": "code",
   "execution_count": 20,
   "id": "c2f5b9cb",
   "metadata": {},
   "outputs": [
    {
     "name": "stdout",
     "output_type": "stream",
     "text": [
      "         index      총구매액     최대구매액      환불금액     주구매상품     주구매지점      내점일수  \\\n",
      "0    -1.646244 -0.163544 -0.278459 -0.051427 -0.725353 -1.912205 -0.013603   \n",
      "1    -1.645174 -0.558135 -0.552530 -0.248711  0.511904  1.441974 -0.650806   \n",
      "2    -1.644103 -0.551806 -0.567452 -0.257733 -0.648024 -1.735670 -0.650806   \n",
      "3    -1.643033 -0.474968 -0.468489 -0.257733 -0.725353 -1.559134 -0.051086   \n",
      "4    -1.641963 -0.397583  0.103943 -0.257733  0.047933 -0.499919 -0.650806   \n",
      "...        ...       ...       ...       ...       ...       ...       ...   \n",
      "3495  2.093979 -0.551936 -0.525300 -0.257733 -0.880010 -0.499919 -0.688289   \n",
      "3496  2.095049 -0.394131 -0.400482 -0.075798  0.589233 -0.323383 -0.425911   \n",
      "3497  2.096119 -0.570430 -0.614412 -0.257733  1.362518  1.795046 -0.688289   \n",
      "3498  2.097189 -0.559692 -0.586638 -0.257733  2.058475 -0.499919 -0.650806   \n",
      "3499  2.098259  0.998623  0.423172 -0.078102 -0.725353 -0.499919  0.698565   \n",
      "\n",
      "       내점당구매건수    주말방문비율      구매주기  \n",
      "0     0.576894  0.785662 -0.150280  \n",
      "1    -0.718794 -1.051729 -0.803785  \n",
      "2    -0.448266 -1.051729 -0.803785  \n",
      "3    -0.207796  0.057558 -0.191125  \n",
      "4    -0.718794 -1.051729  2.627116  \n",
      "...        ...       ...       ...  \n",
      "3495 -0.448266  2.434602 -0.844629  \n",
      "3496 -0.651162  0.557347  0.789133  \n",
      "3497 -0.989323 -1.051729 -0.844629  \n",
      "3498 -0.989323 -1.051729  0.748289  \n",
      "3499 -0.220453  0.577752 -0.517877  \n",
      "\n",
      "[3500 rows x 10 columns]\n",
      "         index      총구매액     최대구매액      환불금액     주구매상품     주구매지점      내점일수  \\\n",
      "3500 -1.646244 -0.147929  0.043893 -0.135934 -0.880010 -0.323383 -0.238498   \n",
      "3501 -1.645174  1.281570  0.541051  1.186853 -0.416039  1.441974  2.647656   \n",
      "3502 -1.644103  1.250139 -0.171539  0.660150 -1.111996 -0.499919  3.059964   \n",
      "3503 -1.643033 -0.525575 -0.459781 -0.257733  1.362518 -0.323383 -0.538359   \n",
      "3504 -1.641963 -0.560164 -0.574292 -0.257733  0.434576  1.971582 -0.613324   \n",
      "...        ...       ...       ...       ...       ...       ...       ...   \n",
      "5977  1.004552 -0.078247  0.103223 -0.257733 -0.880010 -0.323383 -0.425911   \n",
      "5978  1.005622 -0.568014 -0.602251 -0.257733  0.202590 -1.559134 -0.688289   \n",
      "5979  1.006692  0.980144  0.156487 -0.257733 -0.648024 -0.499919 -0.013603   \n",
      "5980  1.007762 -0.040009 -0.072605 -0.257733  0.975876 -0.499919 -0.538359   \n",
      "5981  1.008833 -0.567156 -0.610388 -0.257733 -1.111996  0.735831 -0.650806   \n",
      "\n",
      "       내점당구매건수    주말방문비율      구매주기  \n",
      "3500 -0.739604  1.700638  0.217316  \n",
      "3501 -0.213808  0.237736 -0.722097  \n",
      "3502  6.381906 -0.761398 -0.722097  \n",
      "3503 -0.448266 -1.051729  1.075041  \n",
      "3504 -0.087561 -0.615938 -0.517877  \n",
      "...        ...       ...       ...  \n",
      "5977 -0.583530  1.189484  0.789133  \n",
      "5978 -0.989323 -1.051729 -0.844629  \n",
      "5979  0.491464  2.139983 -0.109436  \n",
      "5980  0.417425  0.497751  1.606014  \n",
      "5981  1.174904 -1.051729  0.421536  \n",
      "\n",
      "[2482 rows x 10 columns]\n",
      "0       0\n",
      "1       0\n",
      "2       1\n",
      "3       1\n",
      "4       0\n",
      "       ..\n",
      "3495    1\n",
      "3496    1\n",
      "3497    0\n",
      "3498    0\n",
      "3499    0\n",
      "Name: gender, Length: 3500, dtype: int64\n"
     ]
    }
   ],
   "source": [
    "##### train, val, test set\n",
    "X_train_all = X_all.iloc[:X_train_all_size, :]\n",
    "X_test_all = X_all.iloc[X_train_all_size:, :]\n",
    "y_train_oc = y_train_all['gender']\n",
    "print(X_train_all)\n",
    "print(X_test_all)\n",
    "print(y_train_oc)"
   ]
  },
  {
   "cell_type": "code",
   "execution_count": 26,
   "id": "11d5a52e",
   "metadata": {},
   "outputs": [],
   "source": [
    "##### split\n",
    "X_train, X_val, y_train, y_val = train_test_split(X_train_all, y_train_oc, test_size=0.2, random_state=123)"
   ]
  },
  {
   "cell_type": "code",
   "execution_count": 35,
   "id": "81f9d67c",
   "metadata": {},
   "outputs": [],
   "source": [
    "##### model\n",
    "model = RandomForestClassifier(n_estimators=100, max_depth=5, min_samples_leaf=8, n_jobs=-1)"
   ]
  },
  {
   "cell_type": "code",
   "execution_count": 36,
   "id": "225f231b",
   "metadata": {},
   "outputs": [
    {
     "name": "stderr",
     "output_type": "stream",
     "text": [
      "[Parallel(n_jobs=-1)]: Using backend LokyBackend with 32 concurrent workers.\n"
     ]
    },
    {
     "name": "stdout",
     "output_type": "stream",
     "text": [
      "정확도: 0.643142857142857\n",
      "rocauc: 0.5912144702842378\n"
     ]
    },
    {
     "name": "stderr",
     "output_type": "stream",
     "text": [
      "[Parallel(n_jobs=-1)]: Done   2 out of   5 | elapsed:    0.8s remaining:    1.3s\n",
      "[Parallel(n_jobs=-1)]: Done   5 out of   5 | elapsed:    0.9s finished\n"
     ]
    }
   ],
   "source": [
    "model.fit(X_train, y_train)\n",
    "scores= cross_val_score(model, X_train_all, y_train_oc, cv=5, verbose=1, n_jobs=-1, scoring='accuracy'  )\n",
    "predicts= model.predict(X_val)\n",
    "print(\"정확도:\", scores.mean())\n",
    "print(\"rocauc:\", roc_auc_score(y_val, predicts))"
   ]
  },
  {
   "cell_type": "code",
   "execution_count": null,
   "id": "8871a48f",
   "metadata": {},
   "outputs": [],
   "source": []
  }
 ],
 "metadata": {
  "kernelspec": {
   "display_name": "Python 3",
   "language": "python",
   "name": "python3"
  },
  "language_info": {
   "codemirror_mode": {
    "name": "ipython",
    "version": 3
   },
   "file_extension": ".py",
   "mimetype": "text/x-python",
   "name": "python",
   "nbconvert_exporter": "python",
   "pygments_lexer": "ipython3",
   "version": "3.6.8"
  }
 },
 "nbformat": 4,
 "nbformat_minor": 5
}
